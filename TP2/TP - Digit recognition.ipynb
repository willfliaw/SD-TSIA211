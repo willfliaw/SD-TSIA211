{
 "cells": [
  {
   "cell_type": "markdown",
   "id": "e8ddb1a5",
   "metadata": {},
   "source": [
    "# TP Digit recognition\n",
    "\n",
    "Authors: William Liaw."
   ]
  },
  {
   "cell_type": "markdown",
   "id": "5c7a585d",
   "metadata": {},
   "source": [
    "## Importing libraries"
   ]
  },
  {
   "cell_type": "code",
   "execution_count": 1,
   "id": "149938de",
   "metadata": {},
   "outputs": [],
   "source": [
    "import time\n",
    "\n",
    "import matplotlib.pyplot as plt\n",
    "import numpy as np\n",
    "import tensorflow as tf\n",
    "import keras\n",
    "from keras import layers"
   ]
  },
  {
   "cell_type": "code",
   "execution_count": 2,
   "id": "e34a27fb",
   "metadata": {},
   "outputs": [],
   "source": [
    "keras.utils.set_random_seed(0)"
   ]
  },
  {
   "cell_type": "code",
   "execution_count": 3,
   "id": "8424ce71",
   "metadata": {},
   "outputs": [
    {
     "name": "stdout",
     "output_type": "stream",
     "text": [
      "TensorFlow version: 2.10.0\n"
     ]
    }
   ],
   "source": [
    "print(\"TensorFlow version:\", tf.__version__)"
   ]
  },
  {
   "cell_type": "markdown",
   "id": "870b349d",
   "metadata": {},
   "source": [
    "## Importing data"
   ]
  },
  {
   "cell_type": "code",
   "execution_count": 4,
   "id": "773c1396",
   "metadata": {},
   "outputs": [],
   "source": [
    "(x_train, y_train), (x_test, y_test) = keras.datasets.mnist.load_data(path=\"mnist.npz\")"
   ]
  },
  {
   "cell_type": "markdown",
   "id": "3684f2c6",
   "metadata": {},
   "source": [
    "## Preliminary data analysis"
   ]
  },
  {
   "cell_type": "code",
   "execution_count": 5,
   "id": "83a2ac85",
   "metadata": {},
   "outputs": [
    {
     "data": {
      "image/png": "[encoded data removed]",
      "text/plain": [
       "<Figure size 640x640 with 9 Axes>"
      ]
     },
     "metadata": {},
     "output_type": "display_data"
    }
   ],
   "source": [
    "fig, axs = plt.subplots(3, 3, figsize=(8, 8), dpi=80)\n",
    "axs = np.ravel(axs)\n",
    "\n",
    "for index, ax in enumerate(axs):\n",
    "    ax.imshow(x_train[index], cmap=\"gray\")\n",
    "    ax.set_title(f\"True label: {y_train[index]}\", fontsize=22)\n",
    "    ax.axis(\"off\")\n",
    "\n",
    "plt.tight_layout()\n",
    "plt.show()"
   ]
  },
  {
   "cell_type": "code",
   "execution_count": 6,
   "id": "7e4600fb",
   "metadata": {},
   "outputs": [
    {
     "data": {
      "text/plain": [
       "(60000, 28, 28)"
      ]
     },
     "execution_count": 6,
     "metadata": {},
     "output_type": "execute_result"
    }
   ],
   "source": [
    "x_train.shape"
   ]
  },
  {
   "cell_type": "code",
   "execution_count": 7,
   "id": "4d1fbfb6",
   "metadata": {},
   "outputs": [
    {
     "data": {
      "text/plain": [
       "(10000, 28, 28)"
      ]
     },
     "execution_count": 7,
     "metadata": {},
     "output_type": "execute_result"
    }
   ],
   "source": [
    "x_test.shape"
   ]
  },
  {
   "cell_type": "code",
   "execution_count": 8,
   "id": "f3c5c777",
   "metadata": {},
   "outputs": [],
   "source": [
    "validation_samples = 10000\n",
    "img_shape = x_train.shape[1:]\n",
    "\n",
    "x_train = x_train.reshape(-1, img_shape[0]*img_shape[1])\n",
    "x_test = x_test.reshape(-1, img_shape[0]*img_shape[1])\n",
    "\n",
    "# Reserve samples for validation\n",
    "x_validation = x_train[-validation_samples:]\n",
    "y_validation = y_train[-validation_samples:]\n",
    "x_train = x_train[:-validation_samples]\n",
    "y_train = y_train[:-validation_samples]"
   ]
  },
  {
   "cell_type": "markdown",
   "id": "e4e06db8",
   "metadata": {},
   "source": [
    "## 4. Model"
   ]
  },
  {
   "cell_type": "code",
   "execution_count": 9,
   "id": "4b521b78",
   "metadata": {},
   "outputs": [],
   "source": [
    "def build_model():\n",
    "    inputs = keras.Input(shape=(784,), name=\"digits\")\n",
    "    x = layers.Dense(32, activation=\"relu\", name=\"dense_1\")(inputs)\n",
    "    x = layers.Dense(32, activation=\"relu\", name=\"dense_2\")(x)\n",
    "    outputs = layers.Dense(10, activation=None, name=\"predictions\")(x)\n",
    "    model = keras.Model(inputs=inputs, outputs=outputs, name=\"mnist_model\")\n",
    "\n",
    "    return model"
   ]
  },
  {
   "cell_type": "code",
   "execution_count": 10,
   "id": "f106a2e5",
   "metadata": {},
   "outputs": [],
   "source": [
    "model = build_model()"
   ]
  },
  {
   "cell_type": "code",
   "execution_count": 11,
   "id": "9c60791f",
   "metadata": {},
   "outputs": [
    {
     "name": "stdout",
     "output_type": "stream",
     "text": [
      "Model: \"mnist_model\"\n",
      "_________________________________________________________________\n",
      " Layer (type)                Output Shape              Param #   \n",
      "=================================================================\n",
      " digits (InputLayer)         [(None, 784)]             0         \n",
      "                                                                 \n",
      " dense_1 (Dense)             (None, 32)                25120     \n",
      "                                                                 \n",
      " dense_2 (Dense)             (None, 32)                1056      \n",
      "                                                                 \n",
      " predictions (Dense)         (None, 10)                330       \n",
      "                                                                 \n",
      "=================================================================\n",
      "Total params: 26,506\n",
      "Trainable params: 26,506\n",
      "Non-trainable params: 0\n",
      "_________________________________________________________________\n"
     ]
    }
   ],
   "source": [
    "model.summary()"
   ]
  },
  {
   "cell_type": "markdown",
   "id": "2a66389b",
   "metadata": {},
   "source": [
    "### Question 4.1."
   ]
  },
  {
   "cell_type": "code",
   "execution_count": 12,
   "id": "32610235",
   "metadata": {},
   "outputs": [
    {
     "name": "stdout",
     "output_type": "stream",
     "text": [
      "Numeber of optimization variables: 26506\n"
     ]
    }
   ],
   "source": [
    "print(f\"Numeber of optimization variables: {model.count_params()}\")"
   ]
  },
  {
   "cell_type": "markdown",
   "id": "c24433ed",
   "metadata": {},
   "source": [
    "## 5. Stochastic gradient descent"
   ]
  },
  {
   "cell_type": "markdown",
   "id": "9e3bf10b",
   "metadata": {},
   "source": [
    "### Question 5.1."
   ]
  },
  {
   "cell_type": "code",
   "execution_count": 13,
   "id": "ba00edb3",
   "metadata": {},
   "outputs": [],
   "source": [
    "def stochastic_gradient_descent(\n",
    "    model,\n",
    "    epochs,\n",
    "    batch_size,\n",
    "    x_train,\n",
    "    y_train,\n",
    "    x_validation,\n",
    "    y_validation,\n",
    "    train_step,\n",
    "    test_step,\n",
    "    train_accuracy_metric,\n",
    "    validation_accuracy_metric,\n",
    "    log_batches,\n",
    "):\n",
    "    # Prepare the training dataset\n",
    "    train_dataset = tf.data.Dataset.from_tensor_slices((x_train, y_train))\n",
    "    train_dataset = train_dataset.shuffle(buffer_size=x_train.shape[0]).batch(\n",
    "        batch_size\n",
    "    )\n",
    "\n",
    "    # Prepare the validation dataset\n",
    "    validation_dataset = tf.data.Dataset.from_tensor_slices(\n",
    "        (x_validation, y_validation)\n",
    "    )\n",
    "    validation_dataset = validation_dataset.batch(batch_size)\n",
    "\n",
    "    for epoch in range(epochs):\n",
    "        loss_history = []\n",
    "        print(\"\\nStart of epoch %d\" % (epoch,))\n",
    "        start_time = time.perf_counter()\n",
    "\n",
    "        # Iterate over the batches of the dataset.\n",
    "        for step, (x_batch_train, y_batch_train) in enumerate(train_dataset):\n",
    "            loss_value = train_step(x_batch_train, y_batch_train)\n",
    "\n",
    "            # Log every log_batches batches\n",
    "            if step % log_batches == 0:\n",
    "                logits = model(x_train, training=False)\n",
    "                loss_history.append(loss_function(y_train, logits))\n",
    "\n",
    "                print(f\"Training loss (for one batch) at step {step}: {loss_value:.4f}\")\n",
    "                print(f\"Seen so far: {(step + 1) * batch_size} samples\")\n",
    "\n",
    "\n",
    "        # Display metrics at the end of each epoch\n",
    "        train_acc = train_accuracy_metric.result()\n",
    "        print(f\"Training accuracy over epoch: {float(train_acc):.4f}\")\n",
    "\n",
    "        # Reset training metrics at the end of each epoch\n",
    "        train_accuracy_metric.reset_states()\n",
    "\n",
    "        # Run a validation loop at the end of each epoch.\n",
    "        for x_batch_validation, y_batch_validation in validation_dataset:\n",
    "            test_step(x_batch_validation, y_batch_validation)\n",
    "\n",
    "        end_time = time.perf_counter()\n",
    "        validation_accuracy = validation_accuracy_metric.result()\n",
    "        validation_accuracy_metric.reset_states()\n",
    "\n",
    "        print(f\"Validation accuracy: {float(validation_accuracy):.4f}\")\n",
    "        print(f\"Time taken: {end_time - start_time:.2f}s\")\n",
    "\n",
    "    return loss_history"
   ]
  },
  {
   "cell_type": "markdown",
   "id": "93059ada",
   "metadata": {},
   "source": [
    "### Question 5.2."
   ]
  },
  {
   "cell_type": "code",
   "execution_count": 14,
   "id": "1d99dda7",
   "metadata": {},
   "outputs": [],
   "source": [
    "model = build_model()"
   ]
  },
  {
   "cell_type": "code",
   "execution_count": 15,
   "id": "b75537c6",
   "metadata": {},
   "outputs": [],
   "source": [
    "batch_size = 1\n",
    "epochs = 1\n",
    "validation_samples = 10000\n",
    "log_batches = 5000"
   ]
  },
  {
   "cell_type": "code",
   "execution_count": 16,
   "id": "486c4e68",
   "metadata": {},
   "outputs": [],
   "source": [
    "# Instantiate an optimizer.\n",
    "learning_rate = 1 / np.sqrt(\n",
    "    epochs * x_train.shape[0] // batch_size\n",
    ")\n",
    "optimizer = keras.optimizers.SGD(learning_rate=learning_rate)\n",
    "\n",
    "# Instantiate a loss function.\n",
    "loss_function = keras.losses.SparseCategoricalCrossentropy(from_logits=True)\n",
    "\n",
    "# Prepare the metrics.\n",
    "train_accuracy_metric = keras.metrics.SparseCategoricalAccuracy()\n",
    "validation_accuracy_metric = keras.metrics.SparseCategoricalAccuracy()"
   ]
  },
  {
   "cell_type": "code",
   "execution_count": 17,
   "id": "3105ff68",
   "metadata": {},
   "outputs": [],
   "source": [
    "@tf.function\n",
    "def train_step(x, y):\n",
    "    with tf.GradientTape() as tape:\n",
    "        logits = model(x, training=True)\n",
    "        loss_value = loss_function(y, logits)\n",
    "    grads = tape.gradient(loss_value, model.trainable_weights)\n",
    "    optimizer.apply_gradients(zip(grads, model.trainable_weights))\n",
    "    train_accuracy_metric.update_state(y, logits)\n",
    "    return loss_value\n",
    "\n",
    "\n",
    "@tf.function\n",
    "def test_step(x, y):\n",
    "    validation_logits = model(x, training=False)\n",
    "    validation_accuracy_metric.update_state(y, validation_logits)"
   ]
  },
  {
   "cell_type": "code",
   "execution_count": 18,
   "id": "3e3de6fc",
   "metadata": {},
   "outputs": [
    {
     "name": "stdout",
     "output_type": "stream",
     "text": [
      "\n",
      "Start of epoch 0\n",
      "Training loss (for one batch) at step 0: 154.5033\n",
      "Seen so far: 1 samples\n",
      "Training loss (for one batch) at step 5000: 2.4696\n",
      "Seen so far: 5001 samples\n",
      "Training loss (for one batch) at step 10000: 2.3966\n",
      "Seen so far: 10001 samples\n",
      "Training loss (for one batch) at step 15000: 2.3174\n",
      "Seen so far: 15001 samples\n",
      "Training loss (for one batch) at step 20000: 2.3455\n",
      "Seen so far: 20001 samples\n",
      "Training loss (for one batch) at step 25000: 2.2245\n",
      "Seen so far: 25001 samples\n",
      "Training loss (for one batch) at step 30000: 2.3916\n",
      "Seen so far: 30001 samples\n",
      "Training loss (for one batch) at step 35000: 2.4189\n",
      "Seen so far: 35001 samples\n",
      "Training loss (for one batch) at step 40000: 2.2541\n",
      "Seen so far: 40001 samples\n",
      "Training loss (for one batch) at step 45000: 2.3438\n",
      "Seen so far: 45001 samples\n",
      "Training accuracy over epoch: 0.1113\n",
      "Validation accuracy: 0.1064\n",
      "Time taken: 43.99s\n"
     ]
    }
   ],
   "source": [
    "loss_history = stochastic_gradient_descent(\n",
    "    model=model,\n",
    "    epochs=epochs,\n",
    "    batch_size=batch_size,\n",
    "    x_train=x_train,\n",
    "    y_train=y_train,\n",
    "    x_validation=x_validation,\n",
    "    y_validation=y_validation,\n",
    "    train_step=train_step,\n",
    "    test_step=test_step,\n",
    "    train_accuracy_metric=train_accuracy_metric,\n",
    "    validation_accuracy_metric=validation_accuracy_metric,\n",
    "    log_batches=log_batches,\n",
    ")"
   ]
  },
  {
   "cell_type": "markdown",
   "id": "140fdf1f",
   "metadata": {},
   "source": [
    "### Question 5.2."
   ]
  },
  {
   "cell_type": "code",
   "execution_count": 19,
   "id": "77f8b032",
   "metadata": {},
   "outputs": [
    {
     "data": {
      "image/png": "[encoded data removed]",
      "text/plain": [
       "<Figure size 1280x720 with 1 Axes>"
      ]
     },
     "metadata": {},
     "output_type": "display_data"
    }
   ],
   "source": [
    "plt.figure(figsize=(16, 9), dpi=80)\n",
    "plt.plot(\n",
    "    np.arange(x_train.shape[0], step=log_batches),\n",
    "    loss_history,\n",
    ")\n",
    "plt.title(\"Stochastic gradient descent\", fontsize=22)\n",
    "plt.xlabel(\"Batch\", fontsize=20)\n",
    "plt.ylabel(\"Sparse Categorical Crossentropy\", fontsize=20)\n",
    "\n",
    "\n",
    "plt.gca().spines[[\"top\", \"right\"]].set_alpha(0.0)\n",
    "plt.gca().spines[[\"bottom\", \"left\"]].set_alpha(0.3)\n",
    "plt.grid(alpha=0.3)\n",
    "plt.show()"
   ]
  },
  {
   "cell_type": "markdown",
   "id": "fbfe5f81",
   "metadata": {},
   "source": [
    "## 6. Empirical risk minimization"
   ]
  },
  {
   "cell_type": "markdown",
   "id": "7356818b",
   "metadata": {},
   "source": [
    "### Question 6.1."
   ]
  },
  {
   "cell_type": "code",
   "execution_count": 20,
   "id": "1bcbdc1b",
   "metadata": {},
   "outputs": [],
   "source": [
    "model = build_model()"
   ]
  },
  {
   "cell_type": "code",
   "execution_count": 21,
   "id": "89a78954",
   "metadata": {},
   "outputs": [],
   "source": [
    "batch_size = 64\n",
    "epochs = 10\n",
    "log_batches = 100"
   ]
  },
  {
   "cell_type": "code",
   "execution_count": 22,
   "id": "48da1e4c",
   "metadata": {},
   "outputs": [],
   "source": [
    "# Instantiate an optimizer.\n",
    "learning_rate = 1 / np.sqrt(\n",
    "    epochs * x_train.shape[0] // batch_size\n",
    ")\n",
    "optimizer = keras.optimizers.SGD(learning_rate=1e-3)\n",
    "\n",
    "# Instantiate a loss function.\n",
    "loss_function = keras.losses.SparseCategoricalCrossentropy(from_logits=True)\n",
    "\n",
    "# Prepare the metrics.\n",
    "train_accuracy_metric = keras.metrics.SparseCategoricalAccuracy()\n",
    "validation_accuracy_metric = keras.metrics.SparseCategoricalAccuracy()"
   ]
  },
  {
   "cell_type": "code",
   "execution_count": 23,
   "id": "ed04611b",
   "metadata": {},
   "outputs": [],
   "source": [
    "@tf.function\n",
    "def train_step(x, y):\n",
    "    with tf.GradientTape() as tape:\n",
    "        logits = model(x, training=True)\n",
    "        loss_value = loss_function(y, logits)\n",
    "    grads = tape.gradient(loss_value, model.trainable_weights)\n",
    "    optimizer.apply_gradients(zip(grads, model.trainable_weights))\n",
    "    train_accuracy_metric.update_state(y, logits)\n",
    "    return loss_value\n",
    "\n",
    "\n",
    "@tf.function\n",
    "def test_step(x, y):\n",
    "    validation_logits = model(x, training=False)\n",
    "    validation_accuracy_metric.update_state(y, validation_logits)"
   ]
  },
  {
   "cell_type": "code",
   "execution_count": 24,
   "id": "7ecaae6b",
   "metadata": {},
   "outputs": [
    {
     "name": "stdout",
     "output_type": "stream",
     "text": [
      "\n",
      "Start of epoch 0\n",
      "Training loss (for one batch) at step 0: 129.2923\n",
      "Seen so far: 64 samples\n",
      "Training loss (for one batch) at step 100: 1.9245\n",
      "Seen so far: 6464 samples\n",
      "Training loss (for one batch) at step 200: 2.6073\n",
      "Seen so far: 12864 samples\n",
      "Training loss (for one batch) at step 300: 1.4319\n",
      "Seen so far: 19264 samples\n",
      "Training loss (for one batch) at step 400: 1.2466\n",
      "Seen so far: 25664 samples\n",
      "Training loss (for one batch) at step 500: 1.4365\n",
      "Seen so far: 32064 samples\n",
      "Training loss (for one batch) at step 600: 1.2466\n",
      "Seen so far: 38464 samples\n",
      "Training loss (for one batch) at step 700: 1.4575\n",
      "Seen so far: 44864 samples\n",
      "Training accuracy over epoch: 0.4757\n",
      "Validation accuracy: 0.5665\n",
      "Time taken: 2.03s\n",
      "\n",
      "Start of epoch 1\n",
      "Training loss (for one batch) at step 0: 1.2706\n",
      "Seen so far: 64 samples\n",
      "Training loss (for one batch) at step 100: 1.0977\n",
      "Seen so far: 6464 samples\n",
      "Training loss (for one batch) at step 200: 1.5411\n",
      "Seen so far: 12864 samples\n",
      "Training loss (for one batch) at step 300: 1.1238\n",
      "Seen so far: 19264 samples\n",
      "Training loss (for one batch) at step 400: 1.0243\n",
      "Seen so far: 25664 samples\n",
      "Training loss (for one batch) at step 500: 0.9950\n",
      "Seen so far: 32064 samples\n",
      "Training loss (for one batch) at step 600: 1.2037\n",
      "Seen so far: 38464 samples\n",
      "Training loss (for one batch) at step 700: 0.9873\n",
      "Seen so far: 44864 samples\n",
      "Training accuracy over epoch: 0.6302\n",
      "Validation accuracy: 0.7101\n",
      "Time taken: 1.45s\n",
      "\n",
      "Start of epoch 2\n",
      "Training loss (for one batch) at step 0: 1.2484\n",
      "Seen so far: 64 samples\n",
      "Training loss (for one batch) at step 100: 0.9952\n",
      "Seen so far: 6464 samples\n",
      "Training loss (for one batch) at step 200: 0.6888\n",
      "Seen so far: 12864 samples\n",
      "Training loss (for one batch) at step 300: 0.7293\n",
      "Seen so far: 19264 samples\n",
      "Training loss (for one batch) at step 400: 1.4226\n",
      "Seen so far: 25664 samples\n",
      "Training loss (for one batch) at step 500: 1.0489\n",
      "Seen so far: 32064 samples\n",
      "Training loss (for one batch) at step 600: 0.6715\n",
      "Seen so far: 38464 samples\n",
      "Training loss (for one batch) at step 700: 0.8483\n",
      "Seen so far: 44864 samples\n",
      "Training accuracy over epoch: 0.6735\n",
      "Validation accuracy: 0.7142\n",
      "Time taken: 1.47s\n",
      "\n",
      "Start of epoch 3\n",
      "Training loss (for one batch) at step 0: 0.8402\n",
      "Seen so far: 64 samples\n",
      "Training loss (for one batch) at step 100: 0.9122\n",
      "Seen so far: 6464 samples\n",
      "Training loss (for one batch) at step 200: 1.1827\n",
      "Seen so far: 12864 samples\n",
      "Training loss (for one batch) at step 300: 0.6709\n",
      "Seen so far: 19264 samples\n",
      "Training loss (for one batch) at step 400: 0.6278\n",
      "Seen so far: 25664 samples\n",
      "Training loss (for one batch) at step 500: 0.7390\n",
      "Seen so far: 32064 samples\n",
      "Training loss (for one batch) at step 600: 0.9191\n",
      "Seen so far: 38464 samples\n",
      "Training loss (for one batch) at step 700: 0.7382\n",
      "Seen so far: 44864 samples\n",
      "Training accuracy over epoch: 0.6894\n",
      "Validation accuracy: 0.7112\n",
      "Time taken: 1.47s\n",
      "\n",
      "Start of epoch 4\n",
      "Training loss (for one batch) at step 0: 0.8590\n",
      "Seen so far: 64 samples\n",
      "Training loss (for one batch) at step 100: 0.7747\n",
      "Seen so far: 6464 samples\n",
      "Training loss (for one batch) at step 200: 0.7039\n",
      "Seen so far: 12864 samples\n",
      "Training loss (for one batch) at step 300: 1.2082\n",
      "Seen so far: 19264 samples\n",
      "Training loss (for one batch) at step 400: 0.9615\n",
      "Seen so far: 25664 samples\n",
      "Training loss (for one batch) at step 500: 0.5660\n",
      "Seen so far: 32064 samples\n",
      "Training loss (for one batch) at step 600: 0.6915\n",
      "Seen so far: 38464 samples\n",
      "Training loss (for one batch) at step 700: 0.7118\n",
      "Seen so far: 44864 samples\n",
      "Training accuracy over epoch: 0.7390\n",
      "Validation accuracy: 0.7754\n",
      "Time taken: 1.43s\n",
      "\n",
      "Start of epoch 5\n",
      "Training loss (for one batch) at step 0: 0.9429\n",
      "Seen so far: 64 samples\n",
      "Training loss (for one batch) at step 100: 0.6955\n",
      "Seen so far: 6464 samples\n",
      "Training loss (for one batch) at step 200: 0.6499\n",
      "Seen so far: 12864 samples\n",
      "Training loss (for one batch) at step 300: 0.8367\n",
      "Seen so far: 19264 samples\n",
      "Training loss (for one batch) at step 400: 0.6294\n",
      "Seen so far: 25664 samples\n",
      "Training loss (for one batch) at step 500: 0.6137\n",
      "Seen so far: 32064 samples\n",
      "Training loss (for one batch) at step 600: 1.0118\n",
      "Seen so far: 38464 samples\n",
      "Training loss (for one batch) at step 700: 0.8557\n",
      "Seen so far: 44864 samples\n",
      "Training accuracy over epoch: 0.7633\n",
      "Validation accuracy: 0.7769\n",
      "Time taken: 1.42s\n",
      "\n",
      "Start of epoch 6\n",
      "Training loss (for one batch) at step 0: 0.6960\n",
      "Seen so far: 64 samples\n",
      "Training loss (for one batch) at step 100: 0.4804\n",
      "Seen so far: 6464 samples\n",
      "Training loss (for one batch) at step 200: 0.6724\n",
      "Seen so far: 12864 samples\n",
      "Training loss (for one batch) at step 300: 0.4443\n",
      "Seen so far: 19264 samples\n",
      "Training loss (for one batch) at step 400: 0.6807\n",
      "Seen so far: 25664 samples\n",
      "Training loss (for one batch) at step 500: 0.5595\n",
      "Seen so far: 32064 samples\n",
      "Training loss (for one batch) at step 600: 0.4875\n",
      "Seen so far: 38464 samples\n",
      "Training loss (for one batch) at step 700: 0.6463\n",
      "Seen so far: 44864 samples\n",
      "Training accuracy over epoch: 0.7804\n",
      "Validation accuracy: 0.7923\n",
      "Time taken: 1.47s\n",
      "\n",
      "Start of epoch 7\n",
      "Training loss (for one batch) at step 0: 0.5910\n",
      "Seen so far: 64 samples\n",
      "Training loss (for one batch) at step 100: 0.6643\n",
      "Seen so far: 6464 samples\n",
      "Training loss (for one batch) at step 200: 0.6513\n",
      "Seen so far: 12864 samples\n",
      "Training loss (for one batch) at step 300: 0.6424\n",
      "Seen so far: 19264 samples\n",
      "Training loss (for one batch) at step 400: 0.5795\n",
      "Seen so far: 25664 samples\n",
      "Training loss (for one batch) at step 500: 0.6955\n",
      "Seen so far: 32064 samples\n",
      "Training loss (for one batch) at step 600: 0.6867\n",
      "Seen so far: 38464 samples\n",
      "Training loss (for one batch) at step 700: 0.5168\n",
      "Seen so far: 44864 samples\n",
      "Training accuracy over epoch: 0.7929\n",
      "Validation accuracy: 0.7999\n",
      "Time taken: 1.46s\n",
      "\n",
      "Start of epoch 8\n",
      "Training loss (for one batch) at step 0: 0.4952\n",
      "Seen so far: 64 samples\n",
      "Training loss (for one batch) at step 100: 0.6773\n",
      "Seen so far: 6464 samples\n",
      "Training loss (for one batch) at step 200: 0.5674\n",
      "Seen so far: 12864 samples\n",
      "Training loss (for one batch) at step 300: 0.4515\n",
      "Seen so far: 19264 samples\n",
      "Training loss (for one batch) at step 400: 0.4110\n",
      "Seen so far: 25664 samples\n",
      "Training loss (for one batch) at step 500: 0.6985\n",
      "Seen so far: 32064 samples\n",
      "Training loss (for one batch) at step 600: 0.5014\n",
      "Seen so far: 38464 samples\n",
      "Training loss (for one batch) at step 700: 0.6594\n",
      "Seen so far: 44864 samples\n",
      "Training accuracy over epoch: 0.8020\n",
      "Validation accuracy: 0.8010\n",
      "Time taken: 1.42s\n",
      "\n",
      "Start of epoch 9\n",
      "Training loss (for one batch) at step 0: 0.4933\n",
      "Seen so far: 64 samples\n",
      "Training loss (for one batch) at step 100: 0.7009\n",
      "Seen so far: 6464 samples\n",
      "Training loss (for one batch) at step 200: 0.7729\n",
      "Seen so far: 12864 samples\n",
      "Training loss (for one batch) at step 300: 0.5294\n",
      "Seen so far: 19264 samples\n",
      "Training loss (for one batch) at step 400: 0.6741\n",
      "Seen so far: 25664 samples\n",
      "Training loss (for one batch) at step 500: 0.4717\n",
      "Seen so far: 32064 samples\n",
      "Training loss (for one batch) at step 600: 0.4702\n",
      "Seen so far: 38464 samples\n",
      "Training loss (for one batch) at step 700: 0.5344\n",
      "Seen so far: 44864 samples\n",
      "Training accuracy over epoch: 0.8083\n",
      "Validation accuracy: 0.7697\n",
      "Time taken: 1.49s\n"
     ]
    }
   ],
   "source": [
    "loss_history = stochastic_gradient_descent(\n",
    "    model=model,\n",
    "    epochs=epochs,\n",
    "    batch_size=batch_size,\n",
    "    x_train=x_train,\n",
    "    y_train=y_train,\n",
    "    x_validation=x_validation,\n",
    "    y_validation=y_validation,\n",
    "    train_step=train_step,\n",
    "    test_step=test_step,\n",
    "    train_accuracy_metric=train_accuracy_metric,\n",
    "    validation_accuracy_metric=validation_accuracy_metric,\n",
    "    log_batches=log_batches,\n",
    ")"
   ]
  },
  {
   "cell_type": "markdown",
   "id": "e27f16ea",
   "metadata": {},
   "source": [
    "### Question 6.2."
   ]
  },
  {
   "cell_type": "markdown",
   "id": "2c60ff9a",
   "metadata": {},
   "source": [
    "Batch size is a hyperparameter in stochastic gradient descent (SGD) and other optimization algorithms that determines the number of training samples to work through before updating the internal model parameters. The choice of batch size can significantly impact the convergence speed, memory requirements, and computational efficiency of the learning process. Here are some advantages of using batches over a batch size of 1 (which is effectively pure stochastic gradient descent):\n",
    "\n",
    "1. **Efficiency**: Using larger batch sizes can take better advantage of parallelism in modern hardware like GPUs and TPUs. Computationally, processing multiple data points simultaneously can be more efficient than processing them one by one. This leads to faster training times, especially for deep learning models trained on large datasets.\n",
    "\n",
    "2. **Stability**: Larger batch sizes often lead to more stable convergence because they provide a smoother gradient estimate. The noise inherent in the gradient estimates from individual samples is reduced when averaged over a batch, which can lead to more consistent updates to the model parameters and faster convergence to a local minimum.\n",
    "\n",
    "3. **Memory efficiency**: Working with larger batches can be more memory-efficient compared to processing individual samples one at a time. This is because the computation can be optimized to take advantage of efficient memory access patterns when processing batches of data.\n",
    "\n",
    "4. **Regularization**: Using batch sizes larger than 1 can have a regularizing effect on the model, similar to adding noise to the parameter updates. This regularization can help prevent overfitting and improve the generalization performance of the model.\n",
    "\n",
    "5. **Noise reduction**: While stochastic gradient descent (batch size of 1) can provide very noisy estimates of the gradient, using larger batch sizes can reduce this noise, leading to smoother updates and potentially faster convergence.\n",
    "\n",
    "However, using larger batch sizes also comes with its own set of challenges, such as increased memory requirements, potential for getting stuck in poor local minima, and sensitivity to the learning rate. The choice of batch size often involves a trade-off between efficiency and convergence speed, and it may need to be tuned along with other hyperparameters during the model training process."
   ]
  },
  {
   "cell_type": "markdown",
   "id": "223844e5",
   "metadata": {},
   "source": [
    "### Question 6.3."
   ]
  },
  {
   "cell_type": "markdown",
   "id": "f2b932b8",
   "metadata": {},
   "source": [
    "Already added since the beginning."
   ]
  }
 ],
 "metadata": {
  "kernelspec": {
   "display_name": "Python 3",
   "language": "python",
   "name": "python3"
  },
  "language_info": {
   "codemirror_mode": {
    "name": "ipython",
    "version": 3
   },
   "file_extension": ".py",
   "mimetype": "text/x-python",
   "name": "python",
   "nbconvert_exporter": "python",
   "pygments_lexer": "ipython3",
   "version": "3.10.13"
  }
 },
 "nbformat": 4,
 "nbformat_minor": 5
}
